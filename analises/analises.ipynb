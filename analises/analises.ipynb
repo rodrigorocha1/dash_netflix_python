{
 "cells": [
  {
   "cell_type": "code",
   "execution_count": 2,
   "outputs": [],
   "source": [
    "import pandas as pd\n",
    "import numpy as np\n",
    "from random import randint, randrange\n",
    "import  dash_bootstrap_templates"
   ],
   "metadata": {
    "collapsed": false,
    "pycharm": {
     "name": "#%%\n"
    }
   }
  },
  {
   "cell_type": "code",
   "execution_count": 3,
   "outputs": [],
   "source": [
    "df = pd.read_csv('../netflix-report/CONTENT_INTERACTION/ViewingActivity.csv')"
   ],
   "metadata": {
    "collapsed": false,
    "pycharm": {
     "name": "#%%\n"
    }
   }
  },
  {
   "cell_type": "code",
   "execution_count": 6,
   "outputs": [
    {
     "data": {
      "text/plain": "     Profile Name           Start Time  Duration  \\\n1912      Rodrigo  2022-09-24 13:07:01  00:00:05   \n1913      Rodrigo  2022-09-24 13:06:09  00:00:24   \n1914      Rodrigo  2022-09-23 14:56:10  00:00:10   \n1915      Rodrigo  2022-09-14 04:08:43  00:00:30   \n1916      Rodrigo  2022-09-14 04:05:19  00:02:31   \n...           ...                  ...       ...   \n3386      Rodrigo  2019-03-02 14:11:55  00:00:01   \n3387      Rodrigo  2019-03-02 14:03:09  00:00:03   \n3388      Rodrigo  2019-03-02 03:24:39  00:26:13   \n3389      Rodrigo  2019-03-02 02:52:27  00:31:35   \n3390      Rodrigo  2019-03-02 02:30:44  00:21:14   \n\n                                  Attributes  \\\n1912                                     NaN   \n1913                                     NaN   \n1914                                     NaN   \n1915                                     NaN   \n1916                                     NaN   \n...                                      ...   \n3386                                     NaN   \n3387  Autoplayed: user action: Unspecified;    \n3388                                     NaN   \n3389                                     NaN   \n3390                                     NaN   \n\n                                                  Title  \\\n1912                           El Jeremías_hook_03_16x9   \n1913                      One Piece Film Z_hook_02_16x9   \n1914          One Piece Film: Strong World_hook_01_16x9   \n1915                          EVANGELION: DEATH (TRUE)²   \n1916                              The End of Evangelion   \n...                                                 ...   \n3386  Drama Total: Drama total, só estrelas: Heróis ...   \n3387  DC's Legends of Tomorrow: Temporada 1: Piloto:...   \n3388  Carmen Sandiego: Temporada 1: Quem é Carmen Sa...   \n3389  Carmen Sandiego: Temporada 1: Quem é Carmen Sa...   \n3390  Justiça Jovem: Temporada 2: Encontro (Episódio...   \n\n     Supplemental Video Type                                   Device Type  \\\n1912                    HOOK  Android DefaultWidevineL3Phone Android Phone   \n1913                    HOOK  Android DefaultWidevineL3Phone Android Phone   \n1914                    HOOK  Android DefaultWidevineL3Phone Android Phone   \n1915                     NaN  Android DefaultWidevineL3Phone Android Phone   \n1916                     NaN  Android DefaultWidevineL3Phone Android Phone   \n...                      ...                                           ...   \n3386                     NaN                          Firefox PC (Cadmium)   \n3387                     NaN                          Firefox PC (Cadmium)   \n3388                     NaN  Android DefaultWidevineL3Phone Android Phone   \n3389                     NaN  Android DefaultWidevineL3Phone Android Phone   \n3390                     NaN  Android DefaultWidevineL3Phone Android Phone   \n\n      Bookmark  Latest Bookmark      Country  \n1912  00:00:05         00:00:05  BR (Brazil)  \n1913  00:00:24         00:00:24  BR (Brazil)  \n1914  00:00:10         00:00:10  BR (Brazil)  \n1915  01:02:36         01:02:36  BR (Brazil)  \n1916  01:17:20         01:17:20  BR (Brazil)  \n...        ...              ...          ...  \n3386  00:00:01  Not latest view  BR (Brazil)  \n3387  00:00:03  Not latest view  BR (Brazil)  \n3388  00:26:13         00:26:13  BR (Brazil)  \n3389  00:31:35         00:31:35  BR (Brazil)  \n3390  00:21:09  Not latest view  BR (Brazil)  \n\n[1479 rows x 10 columns]",
      "text/html": "<div>\n<style scoped>\n    .dataframe tbody tr th:only-of-type {\n        vertical-align: middle;\n    }\n\n    .dataframe tbody tr th {\n        vertical-align: top;\n    }\n\n    .dataframe thead th {\n        text-align: right;\n    }\n</style>\n<table border=\"1\" class=\"dataframe\">\n  <thead>\n    <tr style=\"text-align: right;\">\n      <th></th>\n      <th>Profile Name</th>\n      <th>Start Time</th>\n      <th>Duration</th>\n      <th>Attributes</th>\n      <th>Title</th>\n      <th>Supplemental Video Type</th>\n      <th>Device Type</th>\n      <th>Bookmark</th>\n      <th>Latest Bookmark</th>\n      <th>Country</th>\n    </tr>\n  </thead>\n  <tbody>\n    <tr>\n      <th>1912</th>\n      <td>Rodrigo</td>\n      <td>2022-09-24 13:07:01</td>\n      <td>00:00:05</td>\n      <td>NaN</td>\n      <td>El Jeremías_hook_03_16x9</td>\n      <td>HOOK</td>\n      <td>Android DefaultWidevineL3Phone Android Phone</td>\n      <td>00:00:05</td>\n      <td>00:00:05</td>\n      <td>BR (Brazil)</td>\n    </tr>\n    <tr>\n      <th>1913</th>\n      <td>Rodrigo</td>\n      <td>2022-09-24 13:06:09</td>\n      <td>00:00:24</td>\n      <td>NaN</td>\n      <td>One Piece Film Z_hook_02_16x9</td>\n      <td>HOOK</td>\n      <td>Android DefaultWidevineL3Phone Android Phone</td>\n      <td>00:00:24</td>\n      <td>00:00:24</td>\n      <td>BR (Brazil)</td>\n    </tr>\n    <tr>\n      <th>1914</th>\n      <td>Rodrigo</td>\n      <td>2022-09-23 14:56:10</td>\n      <td>00:00:10</td>\n      <td>NaN</td>\n      <td>One Piece Film: Strong World_hook_01_16x9</td>\n      <td>HOOK</td>\n      <td>Android DefaultWidevineL3Phone Android Phone</td>\n      <td>00:00:10</td>\n      <td>00:00:10</td>\n      <td>BR (Brazil)</td>\n    </tr>\n    <tr>\n      <th>1915</th>\n      <td>Rodrigo</td>\n      <td>2022-09-14 04:08:43</td>\n      <td>00:00:30</td>\n      <td>NaN</td>\n      <td>EVANGELION: DEATH (TRUE)²</td>\n      <td>NaN</td>\n      <td>Android DefaultWidevineL3Phone Android Phone</td>\n      <td>01:02:36</td>\n      <td>01:02:36</td>\n      <td>BR (Brazil)</td>\n    </tr>\n    <tr>\n      <th>1916</th>\n      <td>Rodrigo</td>\n      <td>2022-09-14 04:05:19</td>\n      <td>00:02:31</td>\n      <td>NaN</td>\n      <td>The End of Evangelion</td>\n      <td>NaN</td>\n      <td>Android DefaultWidevineL3Phone Android Phone</td>\n      <td>01:17:20</td>\n      <td>01:17:20</td>\n      <td>BR (Brazil)</td>\n    </tr>\n    <tr>\n      <th>...</th>\n      <td>...</td>\n      <td>...</td>\n      <td>...</td>\n      <td>...</td>\n      <td>...</td>\n      <td>...</td>\n      <td>...</td>\n      <td>...</td>\n      <td>...</td>\n      <td>...</td>\n    </tr>\n    <tr>\n      <th>3386</th>\n      <td>Rodrigo</td>\n      <td>2019-03-02 14:11:55</td>\n      <td>00:00:01</td>\n      <td>NaN</td>\n      <td>Drama Total: Drama total, só estrelas: Heróis ...</td>\n      <td>NaN</td>\n      <td>Firefox PC (Cadmium)</td>\n      <td>00:00:01</td>\n      <td>Not latest view</td>\n      <td>BR (Brazil)</td>\n    </tr>\n    <tr>\n      <th>3387</th>\n      <td>Rodrigo</td>\n      <td>2019-03-02 14:03:09</td>\n      <td>00:00:03</td>\n      <td>Autoplayed: user action: Unspecified;</td>\n      <td>DC's Legends of Tomorrow: Temporada 1: Piloto:...</td>\n      <td>NaN</td>\n      <td>Firefox PC (Cadmium)</td>\n      <td>00:00:03</td>\n      <td>Not latest view</td>\n      <td>BR (Brazil)</td>\n    </tr>\n    <tr>\n      <th>3388</th>\n      <td>Rodrigo</td>\n      <td>2019-03-02 03:24:39</td>\n      <td>00:26:13</td>\n      <td>NaN</td>\n      <td>Carmen Sandiego: Temporada 1: Quem é Carmen Sa...</td>\n      <td>NaN</td>\n      <td>Android DefaultWidevineL3Phone Android Phone</td>\n      <td>00:26:13</td>\n      <td>00:26:13</td>\n      <td>BR (Brazil)</td>\n    </tr>\n    <tr>\n      <th>3389</th>\n      <td>Rodrigo</td>\n      <td>2019-03-02 02:52:27</td>\n      <td>00:31:35</td>\n      <td>NaN</td>\n      <td>Carmen Sandiego: Temporada 1: Quem é Carmen Sa...</td>\n      <td>NaN</td>\n      <td>Android DefaultWidevineL3Phone Android Phone</td>\n      <td>00:31:35</td>\n      <td>00:31:35</td>\n      <td>BR (Brazil)</td>\n    </tr>\n    <tr>\n      <th>3390</th>\n      <td>Rodrigo</td>\n      <td>2019-03-02 02:30:44</td>\n      <td>00:21:14</td>\n      <td>NaN</td>\n      <td>Justiça Jovem: Temporada 2: Encontro (Episódio...</td>\n      <td>NaN</td>\n      <td>Android DefaultWidevineL3Phone Android Phone</td>\n      <td>00:21:09</td>\n      <td>Not latest view</td>\n      <td>BR (Brazil)</td>\n    </tr>\n  </tbody>\n</table>\n<p>1479 rows × 10 columns</p>\n</div>"
     },
     "execution_count": 6,
     "metadata": {},
     "output_type": "execute_result"
    }
   ],
   "source": [
    "df[df['Profile Name'] == 'Rodrigo']\n"
   ],
   "metadata": {
    "collapsed": false,
    "pycharm": {
     "name": "#%%\n"
    }
   }
  },
  {
   "cell_type": "code",
   "execution_count": 14,
   "outputs": [],
   "source": [
    "df_a = pd.DataFrame(dados_a)"
   ],
   "metadata": {
    "collapsed": false,
    "pycharm": {
     "name": "#%%\n"
    }
   }
  },
  {
   "cell_type": "code",
   "execution_count": 15,
   "outputs": [
    {
     "data": {
      "text/plain": "    Número Aleatório\n0                  0\n1                  1\n2                  2\n3                  3\n4                  4\n5                  5\n6                  6\n7                  7\n8                  8\n9                  9\n10                10\n11                11\n12                12\n13                13\n14                14\n15                15\n16                16\n17                17\n18                18\n19                19\n20                20\n21                21\n22                22\n23                23\n24                24\n25                25\n26                26\n27                27\n28                28\n29                29\n30                30\n31                31\n32                32\n33                33\n34                34\n35                35\n36                36\n37                37\n38                38\n39                39\n40                40\n41                41\n42                42\n43                43\n44                44\n45                45\n46                46\n47                47",
      "text/html": "<div>\n<style scoped>\n    .dataframe tbody tr th:only-of-type {\n        vertical-align: middle;\n    }\n\n    .dataframe tbody tr th {\n        vertical-align: top;\n    }\n\n    .dataframe thead th {\n        text-align: right;\n    }\n</style>\n<table border=\"1\" class=\"dataframe\">\n  <thead>\n    <tr style=\"text-align: right;\">\n      <th></th>\n      <th>Número Aleatório</th>\n    </tr>\n  </thead>\n  <tbody>\n    <tr>\n      <th>0</th>\n      <td>0</td>\n    </tr>\n    <tr>\n      <th>1</th>\n      <td>1</td>\n    </tr>\n    <tr>\n      <th>2</th>\n      <td>2</td>\n    </tr>\n    <tr>\n      <th>3</th>\n      <td>3</td>\n    </tr>\n    <tr>\n      <th>4</th>\n      <td>4</td>\n    </tr>\n    <tr>\n      <th>5</th>\n      <td>5</td>\n    </tr>\n    <tr>\n      <th>6</th>\n      <td>6</td>\n    </tr>\n    <tr>\n      <th>7</th>\n      <td>7</td>\n    </tr>\n    <tr>\n      <th>8</th>\n      <td>8</td>\n    </tr>\n    <tr>\n      <th>9</th>\n      <td>9</td>\n    </tr>\n    <tr>\n      <th>10</th>\n      <td>10</td>\n    </tr>\n    <tr>\n      <th>11</th>\n      <td>11</td>\n    </tr>\n    <tr>\n      <th>12</th>\n      <td>12</td>\n    </tr>\n    <tr>\n      <th>13</th>\n      <td>13</td>\n    </tr>\n    <tr>\n      <th>14</th>\n      <td>14</td>\n    </tr>\n    <tr>\n      <th>15</th>\n      <td>15</td>\n    </tr>\n    <tr>\n      <th>16</th>\n      <td>16</td>\n    </tr>\n    <tr>\n      <th>17</th>\n      <td>17</td>\n    </tr>\n    <tr>\n      <th>18</th>\n      <td>18</td>\n    </tr>\n    <tr>\n      <th>19</th>\n      <td>19</td>\n    </tr>\n    <tr>\n      <th>20</th>\n      <td>20</td>\n    </tr>\n    <tr>\n      <th>21</th>\n      <td>21</td>\n    </tr>\n    <tr>\n      <th>22</th>\n      <td>22</td>\n    </tr>\n    <tr>\n      <th>23</th>\n      <td>23</td>\n    </tr>\n    <tr>\n      <th>24</th>\n      <td>24</td>\n    </tr>\n    <tr>\n      <th>25</th>\n      <td>25</td>\n    </tr>\n    <tr>\n      <th>26</th>\n      <td>26</td>\n    </tr>\n    <tr>\n      <th>27</th>\n      <td>27</td>\n    </tr>\n    <tr>\n      <th>28</th>\n      <td>28</td>\n    </tr>\n    <tr>\n      <th>29</th>\n      <td>29</td>\n    </tr>\n    <tr>\n      <th>30</th>\n      <td>30</td>\n    </tr>\n    <tr>\n      <th>31</th>\n      <td>31</td>\n    </tr>\n    <tr>\n      <th>32</th>\n      <td>32</td>\n    </tr>\n    <tr>\n      <th>33</th>\n      <td>33</td>\n    </tr>\n    <tr>\n      <th>34</th>\n      <td>34</td>\n    </tr>\n    <tr>\n      <th>35</th>\n      <td>35</td>\n    </tr>\n    <tr>\n      <th>36</th>\n      <td>36</td>\n    </tr>\n    <tr>\n      <th>37</th>\n      <td>37</td>\n    </tr>\n    <tr>\n      <th>38</th>\n      <td>38</td>\n    </tr>\n    <tr>\n      <th>39</th>\n      <td>39</td>\n    </tr>\n    <tr>\n      <th>40</th>\n      <td>40</td>\n    </tr>\n    <tr>\n      <th>41</th>\n      <td>41</td>\n    </tr>\n    <tr>\n      <th>42</th>\n      <td>42</td>\n    </tr>\n    <tr>\n      <th>43</th>\n      <td>43</td>\n    </tr>\n    <tr>\n      <th>44</th>\n      <td>44</td>\n    </tr>\n    <tr>\n      <th>45</th>\n      <td>45</td>\n    </tr>\n    <tr>\n      <th>46</th>\n      <td>46</td>\n    </tr>\n    <tr>\n      <th>47</th>\n      <td>47</td>\n    </tr>\n  </tbody>\n</table>\n</div>"
     },
     "execution_count": 15,
     "metadata": {},
     "output_type": "execute_result"
    }
   ],
   "source": [
    "df_a"
   ],
   "metadata": {
    "collapsed": false,
    "pycharm": {
     "name": "#%%\n"
    }
   }
  }
 ],
 "metadata": {
  "kernelspec": {
   "display_name": "Python 3",
   "language": "python",
   "name": "python3"
  },
  "language_info": {
   "codemirror_mode": {
    "name": "ipython",
    "version": 2
   },
   "file_extension": ".py",
   "mimetype": "text/x-python",
   "name": "python",
   "nbconvert_exporter": "python",
   "pygments_lexer": "ipython2",
   "version": "2.7.6"
  }
 },
 "nbformat": 4,
 "nbformat_minor": 0
}